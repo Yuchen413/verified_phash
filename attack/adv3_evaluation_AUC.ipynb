{
 "cells": [
  {
   "metadata": {
    "ExecuteTime": {
     "end_time": "2024-07-11T12:49:59.765899Z",
     "start_time": "2024-07-11T12:49:59.757611Z"
    }
   },
   "cell_type": "code",
   "source": [
    "import os\n",
    "import sys\n",
    "# sys.path.insert(0,'/code/')\n",
    "\n",
    "import seaborn as sns\n",
    "import matplotlib.pyplot as plt\n",
    "import numpy as np\n",
    "import torch\n",
    "from sklearn.metrics import roc_curve, auc\n",
    "import torchvision.transforms as T\n",
    "from torchvision.datasets import ImageNet, CIFAR100, CIFAR10, STL10, ImageFolder\n",
    "import pandas as pd\n",
    "from torchvision.utils import save_image\n",
    "\n",
    "import multiprocessing as mp\n",
    "from tqdm.notebook import tqdm\n",
    "from sklearn.metrics import roc_auc_score\n",
    "\n",
    "from datasets.dataset import ImageToHash_Attack\n",
    "\n",
    "from datasets.imagenette import ImageNette\n",
    "from metrics.hamming_distance import hamming_distance\n",
    "from adv3_robustness_check import get_rotation_angles, get_translation_tuples, get_rotation_angles_positive\n",
    "from utils.transforms import Rotate, Translate, ChangeSaturation, ChangeHue, ChangeContrast, ChangeBrightness, \\\n",
    "    JpegCompression, HorizontalFlipping, BlackBorder, CenterCrop, VerticalFlipping\n",
    "from scipy.interpolate import griddata\n",
    "\n",
    "sns.set_style(\"ticks\", {'axes.grid': True})"
   ],
   "outputs": [],
   "execution_count": 44
  },
  {
   "cell_type": "code",
   "metadata": {
    "pycharm": {
     "name": "#%%\n"
    },
    "ExecuteTime": {
     "end_time": "2024-07-11T12:49:59.949336Z",
     "start_time": "2024-07-11T12:49:59.941505Z"
    }
   },
   "source": [
    "DATASET = 'coco_val'\n",
    "TARGET = 'photodna_nn_robust_aug_new_collision_1'\n",
    "PLOT_DIR = f'robustness_by_auc/{DATASET}_{TARGET}_3000'\n",
    "if not os.path.exists(PLOT_DIR):\n",
    "    os.makedirs(PLOT_DIR)\n",
    "MAX_ROT_ANGLE = 64\n",
    "ROT_LOG_BASE = 2\n",
    "ROT_STEPS = 7\n",
    "MAX_TRANS = 64\n",
    "TRANS_LOG_BASE = 2\n",
    "TRANS_STEPS = 7\n",
    "\n",
    "HASH_DIR = f'logs/{DATASET}_{TARGET}'"
   ],
   "outputs": [],
   "execution_count": 45
  },
  {
   "cell_type": "code",
   "metadata": {
    "pycharm": {
     "name": "#%%\n"
    },
    "ExecuteTime": {
     "end_time": "2024-07-11T12:49:59.981885Z",
     "start_time": "2024-07-11T12:49:59.962742Z"
    }
   },
   "source": [
    "def l1_distance(tensor1, tensor2):\n",
    "    loss = torch.nn.L1Loss(reduction='sum')\n",
    "    l1 = []\n",
    "    for i in range(tensor1.shape[0]):\n",
    "        l1.append(loss(tensor1[i],tensor2[i]).item())\n",
    "    return l1\n",
    "\n",
    "def l1_distance_pairwise(tensor1, tensor2, batch_size=200, use_gpu=True):\n",
    "    if use_gpu:\n",
    "        tensor1, tensor2 = tensor1.cuda(), tensor2.cuda()\n",
    "\n",
    "    num_items_1 = tensor1.size(0)\n",
    "    num_items_2 = tensor2.size(0)\n",
    "    l1_matrix = torch.zeros((num_items_1, num_items_2), device='cuda' if use_gpu else 'cpu')\n",
    "\n",
    "    # Process in batches\n",
    "    for i in range(0, num_items_1, batch_size):\n",
    "        end_i = i + batch_size\n",
    "        tensor1_batch = tensor1[i:end_i]\n",
    "\n",
    "        for j in range(0, num_items_2, batch_size):\n",
    "            end_j = j + batch_size\n",
    "            tensor2_batch = tensor2[j:end_j]\n",
    "\n",
    "            # Expand and compute distances\n",
    "            tensor1_expanded = tensor1_batch.unsqueeze(1)\n",
    "            tensor2_expanded = tensor2_batch.unsqueeze(0)\n",
    "            diff = torch.abs(tensor1_expanded - tensor2_expanded)\n",
    "            l1_distances_batch = diff.sum(2)\n",
    "\n",
    "            # Assign computed distances to the appropriate submatrix\n",
    "            l1_matrix[i:end_i, j:end_j] = l1_distances_batch\n",
    "\n",
    "    return l1_matrix.cpu()\n",
    "\n",
    "\n",
    "def calculate_roc_auc(l1_matrix, threshold_range = (1600, 3000), num_thresholds=100, steepness=0.01, batch_size=200):\n",
    "    l1_matrix = torch.tensor(l1_matrix, device='cuda')  # Move the matrix to GPU\n",
    "    n = l1_matrix.size(0)\n",
    "\n",
    "    # Initialize storage for all probabilities and labels\n",
    "    all_probabilities = []\n",
    "    all_labels = []\n",
    "\n",
    "    # Process the full matrix in batches\n",
    "    for i in range(0, n, batch_size):\n",
    "        end_i = min(i + batch_size, n)\n",
    "        batch = l1_matrix[i:end_i, i:end_i]\n",
    "        should_match = torch.eye(batch.size(0), device='cuda', dtype=torch.bool)\n",
    "\n",
    "        # Process each threshold\n",
    "        thresholds = np.linspace(threshold_range[0], threshold_range[1], num=num_thresholds)\n",
    "        for threshold in thresholds:\n",
    "            # Convert distances to probabilities\n",
    "            probabilities = 1 / (1 + torch.exp(-steepness * (threshold - batch)))\n",
    "\n",
    "            # Store probabilities and labels\n",
    "            all_probabilities.append(probabilities.flatten())\n",
    "            all_labels.append(should_match.flatten())\n",
    "\n",
    "    # Concatenate results\n",
    "    all_probabilities = torch.cat(all_probabilities).cpu().numpy()\n",
    "    all_labels = torch.cat(all_labels).cpu().numpy()\n",
    "    \n",
    "\n",
    "    # Compute ROC curve and AUC\n",
    "    fpr, tpr, thresholds = roc_curve(all_labels, all_probabilities)\n",
    "    roc_auc = auc(fpr, tpr)\n",
    "    # print(\"ROC_AUC:\", roc_auc)\n",
    "\n",
    "    return fpr, tpr, thresholds, roc_auc\n",
    "\n",
    "def get_hashes_from_csv(file_path):\n",
    "    df = pd.read_csv(file_path)\n",
    "    df['hash_bin'] = df['hash_bin'].apply(lambda x: x.strip('[]').split() if 'nn' in TARGET else x.split())\n",
    "    df['hash_bin'] = df['hash_bin'].apply(lambda x: [int(i) for i in x])\n",
    "    bin_hashes = np.array(df['hash_bin'].tolist()).astype(int)\n",
    "    \n",
    "    return bin_hashes\n",
    "\n",
    "\n",
    "def get_augmented_hashes_and_l1_dist(filenames, augment_values, original_hashes, return_bin_hashes=False, num_processes=2, pairwise = True):\n",
    "    return_hash_dict = {}\n",
    "    return_l1_dict = {}\n",
    "\n",
    "    # with tqdm(total=len(filenames)) as pbar:\n",
    "    with mp.Pool(num_processes) as pool:\n",
    "        for i, bin_hashes in tqdm(enumerate(pool.imap(get_hashes_from_csv, filenames))):\n",
    "            return_hash_dict[augment_values[i]] = bin_hashes\n",
    "            if pairwise == False:\n",
    "                # Only calculate the l1 between same index\n",
    "                return_l1_dict[augment_values[i]] = np.array(l1_distance(torch.tensor(bin_hashes), original_hashes))\n",
    "            else:\n",
    "                return_l1_dict[augment_values[i]] = np.array(l1_distance_pairwise(torch.tensor(bin_hashes), original_hashes))\n",
    "\n",
    "\n",
    "    if return_bin_hashes:\n",
    "        return return_hash_dict, return_l1_dict\n",
    "\n",
    "    return return_l1_dict\n",
    "\n",
    "\n",
    "def print_mean_and_std_for_keys(given_dict):\n",
    "    for key in given_dict.keys():\n",
    "        print(f'Mean L1 Distance for {key}: {given_dict[key].mean()}')\n",
    "        print(f'Standard Deviation L1 Distance for {key}: {given_dict[key].std()}')\n",
    "        \n"
   ],
   "outputs": [],
   "execution_count": 46
  },
  {
   "metadata": {
    "ExecuteTime": {
     "end_time": "2024-07-11T12:50:00.185584Z",
     "start_time": "2024-07-11T12:49:59.983099Z"
    }
   },
   "cell_type": "code",
   "source": "bin_hashes_orig = torch.tensor(get_hashes_from_csv(os.path.join(HASH_DIR, f'{DATASET}_original.csv')))",
   "outputs": [],
   "execution_count": 47
  },
  {
   "metadata": {},
   "cell_type": "markdown",
   "source": "# L_inf Robustness"
  },
  {
   "metadata": {
    "ExecuteTime": {
     "end_time": "2024-07-11T12:50:00.188139Z",
     "start_time": "2024-07-11T12:50:00.186560Z"
    }
   },
   "cell_type": "code",
   "source": [
    "# epsilons = [0.0039, 0.0078, 0.0156, 0.0312]\n",
    "# linf_hamming = get_augmented_hashes_and_l1_dist(\n",
    "#     [os.path.join(HASH_DIR, 'linf_epsilon', f'{DATASET}_linf_epsilon_{epsilon}.csv') for epsilon in epsilons],\n",
    "#     epsilons,\n",
    "#     bin_hashes_orig,\n",
    "#     num_processes=4,\n",
    "#     pairwise=True\n",
    "# )"
   ],
   "outputs": [],
   "execution_count": 48
  },
  {
   "metadata": {
    "ExecuteTime": {
     "end_time": "2024-07-11T12:50:00.199627Z",
     "start_time": "2024-07-11T12:50:00.188775Z"
    }
   },
   "cell_type": "code",
   "source": [
    "# keys = []\n",
    "# auc_values = []\n",
    "# for key, value in tqdm(linf_hamming.items()):\n",
    "#     _, _, _, roc_auc = calculate_roc_auc(value)\n",
    "#     keys.append(key)\n",
    "#     auc_values.append(roc_auc)"
   ],
   "outputs": [],
   "execution_count": 49
  },
  {
   "metadata": {
    "ExecuteTime": {
     "end_time": "2024-07-11T12:50:00.213815Z",
     "start_time": "2024-07-11T12:50:00.200477Z"
    }
   },
   "cell_type": "code",
   "source": [
    "# # Print angles row\n",
    "# print(\"Epsilon:   \", end='')\n",
    "# for key in keys:\n",
    "#     print(f\"{key:<10}\", end='')\n",
    "# print()  # New line for AUC values\n",
    "# \n",
    "# # Print ROC AUC values row\n",
    "# print(\"ROC AUC: \", end='')\n",
    "# for value in auc_values:\n",
    "#     print(f\"{value:<10.4f}\", end='')\n",
    "# print()  # New line at the end\n",
    "# \n",
    "# # Open a file and append the data\n",
    "# with open(f'{PLOT_DIR}/{DATASET}.txt', 'a') as file:\n",
    "#     # Print angles row to the file\n",
    "#     file.write(\"Epsilon:  \")\n",
    "#     for key in keys:\n",
    "#         file.write(f\"{key:<10}\")\n",
    "#     file.write(\"\\n\")  # New line for AUC values\n",
    "# \n",
    "#     # Print ROC AUC values row to the file\n",
    "#     file.write(\"ROC AUC: \")\n",
    "#     for value in auc_values:\n",
    "#         file.write(f\"{value:<10.4f}\")\n",
    "#     file.write(\"\\n\")  # New line at the end\n",
    "#     file.write(\"\\n\")"
   ],
   "outputs": [],
   "execution_count": 50
  },
  {
   "cell_type": "markdown",
   "metadata": {
    "pycharm": {
     "name": "#%% md\n"
    }
   },
   "source": [
    "# Rotation Robustness"
   ]
  },
  {
   "cell_type": "code",
   "metadata": {
    "pycharm": {
     "name": "#%%\n"
    },
    "ExecuteTime": {
     "end_time": "2024-07-11T12:50:00.224519Z",
     "start_time": "2024-07-11T12:50:00.214377Z"
    }
   },
   "source": [
    "# get the rotation angles\n",
    "angles = get_rotation_angles_positive(MAX_ROT_ANGLE, ROT_LOG_BASE, ROT_STEPS)"
   ],
   "outputs": [],
   "execution_count": 51
  },
  {
   "cell_type": "code",
   "metadata": {
    "pycharm": {
     "name": "#%%\n"
    },
    "ExecuteTime": {
     "end_time": "2024-07-11T12:50:07.311090Z",
     "start_time": "2024-07-11T12:50:00.225722Z"
    }
   },
   "source": [
    "distance = get_augmented_hashes_and_l1_dist(\n",
    "    [os.path.join(HASH_DIR, 'rotation', f'{DATASET}_rotation_{angle}.csv') for angle in angles],\n",
    "    angles,\n",
    "    bin_hashes_orig,\n",
    "    num_processes=15,\n",
    "    pairwise=True\n",
    ")"
   ],
   "outputs": [
    {
     "data": {
      "text/plain": [
       "0it [00:00, ?it/s]"
      ],
      "application/vnd.jupyter.widget-view+json": {
       "version_major": 2,
       "version_minor": 0,
       "model_id": "6b6404cee9f2495b9e3ae6563e64cdea"
      }
     },
     "metadata": {},
     "output_type": "display_data"
    }
   ],
   "execution_count": 52
  },
  {
   "metadata": {
    "ExecuteTime": {
     "end_time": "2024-07-11T12:54:09.931654Z",
     "start_time": "2024-07-11T12:50:07.311834Z"
    }
   },
   "cell_type": "code",
   "source": [
    "Trans = 'Angle'\n",
    "\n",
    "keys = []\n",
    "auc_values = []\n",
    "plt.figure(figsize=(10, 8))\n",
    "line_styles = ['--', '-.', ':', '-', (0, (3, 5, 1, 5)), (0, (3, 1, 1, 1)), (0, (3, 5, 1, 5, 1, 5)), (0, (3, 10, 1, 10))]\n",
    "colors = plt.cm.Set1(np.linspace(0, 1, len(angles)))\n",
    "\n",
    "for idx, (key, value) in enumerate(tqdm(distance.items())):\n",
    "    fpr, tpr, thresholds, roc_auc = calculate_roc_auc(value)\n",
    "    keys.append(key)\n",
    "    auc_values.append(roc_auc)\n",
    "    style = line_styles[idx % len(line_styles)] \n",
    "    plt.plot(fpr, tpr, color=colors[idx], lw=3, linestyle=style, label=f'{Trans} {key}° (AUC = {roc_auc:.2f})')\n",
    "\n",
    "# Plot formatting\n",
    "plt.plot([0, 1], [0, 1], color='gray', lw=1, linestyle='--')  # Line of no skill\n",
    "plt.xlim([0.0, 1.0])\n",
    "plt.ylim([0.0, 1.05])\n",
    "plt.xlabel('False Positive Rate', fontsize = 18)\n",
    "plt.ylabel('True Positive Rate', fontsize = 18)\n",
    "plt.tick_params(axis='x', labelsize=16)\n",
    "plt.tick_params(axis='y', labelsize=16)\n",
    "plt.legend(loc=\"lower right\")\n",
    "plt.tight_layout() \n",
    "plt.savefig(f'{PLOT_DIR}/{DATASET}_{Trans}.pdf', bbox_inches='tight')  # Save the figure as a PNG file with tight bounding box\n"
   ],
   "outputs": [
    {
     "data": {
      "text/plain": [
       "  0%|          | 0/8 [00:00<?, ?it/s]"
      ],
      "application/vnd.jupyter.widget-view+json": {
       "version_major": 2,
       "version_minor": 0,
       "model_id": "715c22dfb5024db9ad3907eac117b953"
      }
     },
     "metadata": {},
     "output_type": "display_data"
    },
    {
     "data": {
      "text/plain": [
       "<Figure size 1000x800 with 1 Axes>"
      ],
      "image/png": "[encoded data removed]"
     },
     "metadata": {},
     "output_type": "display_data"
    }
   ],
   "execution_count": 53
  },
  {
   "metadata": {
    "ExecuteTime": {
     "end_time": "2024-07-11T12:54:09.935082Z",
     "start_time": "2024-07-11T12:54:09.932205Z"
    }
   },
   "cell_type": "code",
   "source": [
    "# Print angles row\n",
    "print(\"Angle:   \", end='')\n",
    "for key in keys:\n",
    "    print(f\"{key:<10}\", end='')\n",
    "print()  # New line for AUC values\n",
    "\n",
    "# Print ROC AUC values row\n",
    "print(\"ROC AUC: \", end='')\n",
    "for value in auc_values:\n",
    "    print(f\"{value:<10.4f}\", end='')\n",
    "print()  # New line at the end\n",
    "\n",
    "# Open a file and append the data\n",
    "with open(f'{PLOT_DIR}/{DATASET}.txt', 'a') as file:\n",
    "    # Print angles row to the file\n",
    "    file.write(\"Angle:  \")\n",
    "    for key in keys:\n",
    "        file.write(f\"{key:<10}\")\n",
    "    file.write(\"\\n\")  # New line for AUC values\n",
    "\n",
    "    # Print ROC AUC values row to the file\n",
    "    file.write(\"ROC AUC: \")\n",
    "    for value in auc_values:\n",
    "        file.write(f\"{value:<10.4f}\")\n",
    "    file.write(\"\\n\")  # New line at the end\n",
    "    file.write(\"\\n\")"
   ],
   "outputs": [
    {
     "name": "stdout",
     "output_type": "stream",
     "text": [
      "Angle:   0         1         2         4         8         16        32        64        \n",
      "ROC AUC: 1.0000    0.9926    0.9513    0.9463    0.9202    0.8854    0.7768    0.5994    \n"
     ]
    }
   ],
   "execution_count": 54
  },
  {
   "cell_type": "markdown",
   "metadata": {
    "pycharm": {
     "name": "#%% md\n"
    }
   },
   "source": ""
  },
  {
   "cell_type": "markdown",
   "metadata": {
    "pycharm": {
     "name": "#%% md\n"
    }
   },
   "source": [
    "# Hue Robustness"
   ]
  },
  {
   "cell_type": "code",
   "metadata": {
    "pycharm": {
     "name": "#%%\n"
    },
    "ExecuteTime": {
     "end_time": "2024-07-11T12:54:19.858499Z",
     "start_time": "2024-07-11T12:54:09.935583Z"
    }
   },
   "source": [
    "hues = list(range(-180, 180, 30))\n",
    "distance = get_augmented_hashes_and_l1_dist(\n",
    "    [os.path.join(HASH_DIR, 'hue', f'{DATASET}_hue_{hue}.csv') for hue in hues],\n",
    "    hues,\n",
    "    bin_hashes_orig,\n",
    "    num_processes=12,\n",
    "    pairwise=True\n",
    ")"
   ],
   "outputs": [
    {
     "data": {
      "text/plain": [
       "0it [00:00, ?it/s]"
      ],
      "application/vnd.jupyter.widget-view+json": {
       "version_major": 2,
       "version_minor": 0,
       "model_id": "140feab064314905bc784087e96b05b4"
      }
     },
     "metadata": {},
     "output_type": "display_data"
    }
   ],
   "execution_count": 55
  },
  {
   "cell_type": "code",
   "metadata": {
    "ExecuteTime": {
     "end_time": "2024-07-11T13:00:26.857314Z",
     "start_time": "2024-07-11T12:54:19.860025Z"
    }
   },
   "source": [
    "Trans = 'Hue'\n",
    "\n",
    "keys = []\n",
    "auc_values = []\n",
    "plt.figure(figsize=(10, 8))\n",
    "line_styles = ['--', '-.', ':', '-', (0, (3, 5, 1, 5)), (0, (3, 1, 1, 1)), (0, (3, 5, 1, 5, 1, 5)), (0, (3, 10, 1, 10))]\n",
    "colors = plt.cm.Set1(np.linspace(0, 1, len(hues)))\n",
    "\n",
    "for idx, (key, value) in enumerate(tqdm(distance.items())):\n",
    "    fpr, tpr, thresholds, roc_auc = calculate_roc_auc(value)\n",
    "    keys.append(key)\n",
    "    auc_values.append(roc_auc)\n",
    "    style = line_styles[idx % len(line_styles)] \n",
    "    color = colors[idx % len(colors)]\n",
    "    plt.plot(fpr, tpr, color=color, lw=3, linestyle=style, label=f'{Trans} {key}° (AUC = {roc_auc:.2f})')\n",
    "\n",
    "# Plot formatting\n",
    "plt.plot([0, 1], [0, 1], color='gray', lw=1, linestyle='--')  # Line of no skill\n",
    "plt.xlim([0.0, 1.0])\n",
    "plt.ylim([0.0, 1.05])\n",
    "plt.xlabel('False Positive Rate', fontsize = 18)\n",
    "plt.ylabel('True Positive Rate', fontsize = 18)\n",
    "plt.tick_params(axis='x', labelsize=16)\n",
    "plt.tick_params(axis='y', labelsize=16)\n",
    "plt.legend(loc=\"lower right\")\n",
    "plt.tight_layout() \n",
    "plt.savefig(f'{PLOT_DIR}/{DATASET}_{Trans}.pdf', bbox_inches='tight')  # Save the figure as a PNG file with tight bounding box\n"
   ],
   "outputs": [
    {
     "data": {
      "text/plain": [
       "  0%|          | 0/12 [00:00<?, ?it/s]"
      ],
      "application/vnd.jupyter.widget-view+json": {
       "version_major": 2,
       "version_minor": 0,
       "model_id": "bb869355aed04bf8918a59bda6b818cd"
      }
     },
     "metadata": {},
     "output_type": "display_data"
    },
    {
     "data": {
      "text/plain": [
       "<Figure size 1000x800 with 1 Axes>"
      ],
      "image/png": "[encoded data removed]"
     },
     "metadata": {},
     "output_type": "display_data"
    }
   ],
   "execution_count": 56
  },
  {
   "metadata": {
    "ExecuteTime": {
     "end_time": "2024-07-11T13:00:26.860855Z",
     "start_time": "2024-07-11T13:00:26.857843Z"
    }
   },
   "cell_type": "code",
   "source": [
    "# Print angles row\n",
    "print(\"Hue:   \", end='')\n",
    "for key in keys:\n",
    "    print(f\"{key:<10}\", end='')\n",
    "print()  # New line for AUC values\n",
    "\n",
    "# Print ROC AUC values row\n",
    "print(\"ROC AUC: \", end='')\n",
    "for value in auc_values:\n",
    "    print(f\"{value:<10.4f}\", end='')\n",
    "print()  # N\n",
    "\n",
    "# Open a file and append the data\n",
    "with open(f'{PLOT_DIR}/{DATASET}.txt', 'a') as file:\n",
    "    # Print angles row to the file\n",
    "    file.write(\"Hue:  \")\n",
    "    for key in keys:\n",
    "        file.write(f\"{key:<10}\")\n",
    "    file.write(\"\\n\")  # New line for AUC values\n",
    "\n",
    "    # Print ROC AUC values row to the file\n",
    "    file.write(\"ROC AUC: \")\n",
    "    for value in auc_values:\n",
    "        file.write(f\"{value:<10.4f}\")\n",
    "    file.write(\"\\n\")  # New line at the end\n",
    "    file.write(\"\\n\")"
   ],
   "outputs": [
    {
     "name": "stdout",
     "output_type": "stream",
     "text": [
      "Hue:   -180      -150      -120      -90       -60       -30       0         30        60        90        120       150       \n",
      "ROC AUC: 0.9998    0.9997    0.9998    1.0000    1.0000    1.0000    1.0000    1.0000    0.9999    0.9999    0.9999    0.9999    \n"
     ]
    }
   ],
   "execution_count": 57
  },
  {
   "cell_type": "markdown",
   "metadata": {
    "pycharm": {
     "name": "#%% md\n"
    }
   },
   "source": [
    "# Brightness Robustness"
   ]
  },
  {
   "cell_type": "code",
   "metadata": {
    "pycharm": {
     "name": "#%%\n"
    },
    "ExecuteTime": {
     "end_time": "2024-07-11T13:00:34.407954Z",
     "start_time": "2024-07-11T13:00:26.861320Z"
    }
   },
   "source": [
    "brightness_values = list(np.linspace(0, 2, 9, endpoint=True))\n",
    "distance = get_augmented_hashes_and_l1_dist(\n",
    "    [os.path.join(HASH_DIR, 'brightness', f'{DATASET}_brightness_{int(brightness)}.csv' if 'nn' not in TARGET else f'{DATASET}_brightness_{brightness}.csv') for brightness in brightness_values],\n",
    "    brightness_values,\n",
    "    bin_hashes_orig,\n",
    "    num_processes=9,\n",
    "    pairwise=True\n",
    ")"
   ],
   "outputs": [
    {
     "data": {
      "text/plain": [
       "0it [00:00, ?it/s]"
      ],
      "application/vnd.jupyter.widget-view+json": {
       "version_major": 2,
       "version_minor": 0,
       "model_id": "460c43842531421eb6671dfe3eafc2d0"
      }
     },
     "metadata": {},
     "output_type": "display_data"
    }
   ],
   "execution_count": 58
  },
  {
   "metadata": {
    "ExecuteTime": {
     "end_time": "2024-07-11T13:04:58.052048Z",
     "start_time": "2024-07-11T13:00:34.408752Z"
    }
   },
   "cell_type": "code",
   "source": [
    "Trans = 'Brightness'\n",
    "\n",
    "keys = []\n",
    "auc_values = []\n",
    "plt.figure(figsize=(10, 8))\n",
    "line_styles = ['--', '-.', ':', '-', (0, (3, 5, 1, 5)), (0, (3, 1, 1, 1)), (0, (3, 5, 1, 5, 1, 5)), (0, (3, 10, 1, 10))]\n",
    "colors = plt.cm.Set1(np.linspace(0, 1, len(brightness_values)))\n",
    "\n",
    "for idx, (key, value) in enumerate(tqdm(distance.items())):\n",
    "    fpr, tpr, thresholds, roc_auc = calculate_roc_auc(value)\n",
    "    keys.append(key)\n",
    "    auc_values.append(roc_auc)\n",
    "    style = line_styles[idx % len(line_styles)] \n",
    "    color = colors[idx % len(colors)]\n",
    "    plt.plot(fpr, tpr, color=color, lw=3, linestyle=style, label=f'{Trans} {key}° (AUC = {roc_auc:.2f})')\n",
    "\n",
    "# Plot formatting\n",
    "plt.plot([0, 1], [0, 1], color='gray', lw=1, linestyle='--')  # Line of no skill\n",
    "plt.xlim([0.0, 1.0])\n",
    "plt.ylim([0.0, 1.05])\n",
    "plt.xlabel('False Positive Rate', fontsize = 18)\n",
    "plt.ylabel('True Positive Rate', fontsize = 18)\n",
    "plt.tick_params(axis='x', labelsize=16)\n",
    "plt.tick_params(axis='y', labelsize=16)\n",
    "plt.legend(loc=\"lower right\")\n",
    "plt.tight_layout() \n",
    "plt.savefig(f'{PLOT_DIR}/{DATASET}_{Trans}.pdf', bbox_inches='tight')  # Save the figure as a PNG file with tight bounding box\n",
    "plt.close()  # Close the plot to free up memory"
   ],
   "outputs": [
    {
     "data": {
      "text/plain": [
       "  0%|          | 0/9 [00:00<?, ?it/s]"
      ],
      "application/vnd.jupyter.widget-view+json": {
       "version_major": 2,
       "version_minor": 0,
       "model_id": "d30ce7f115bf47b08aa2422257da1f85"
      }
     },
     "metadata": {},
     "output_type": "display_data"
    }
   ],
   "execution_count": 59
  },
  {
   "cell_type": "code",
   "metadata": {
    "ExecuteTime": {
     "end_time": "2024-07-11T13:04:58.056239Z",
     "start_time": "2024-07-11T13:04:58.053004Z"
    }
   },
   "source": [
    "# Print angles row\n",
    "print(\"Brightness:   \", end='')\n",
    "for key in keys:\n",
    "    print(f\"{key:<10}\", end='')\n",
    "print()  # New line for AUC values\n",
    "\n",
    "# Print ROC AUC values row\n",
    "print(\"ROC AUC: \", end='')\n",
    "for value in auc_values:\n",
    "    print(f\"{value:<10.4f}\", end='')\n",
    "print()  # N\n",
    "\n",
    "# Open a file and append the data\n",
    "with open(f'{PLOT_DIR}/{DATASET}.txt', 'a') as file:\n",
    "    # Print angles row to the file\n",
    "    file.write(\"Brightness:  \")\n",
    "    for key in keys:\n",
    "        file.write(f\"{key:<10}\")\n",
    "    file.write(\"\\n\")  # New line for AUC values\n",
    "\n",
    "    # Print ROC AUC values row to the file\n",
    "    file.write(\"ROC AUC: \")\n",
    "    for value in auc_values:\n",
    "        file.write(f\"{value:<10.4f}\")\n",
    "    file.write(\"\\n\")  # New line at the end\n",
    "    file.write(\"\\n\")"
   ],
   "outputs": [
    {
     "name": "stdout",
     "output_type": "stream",
     "text": [
      "Brightness:   0.0       0.25      0.5       0.75      1.0       1.25      1.5       1.75      2.0       \n",
      "ROC AUC: 0.5000    1.0000    1.0000    1.0000    1.0000    1.0000    0.9996    0.9975    0.9929    \n"
     ]
    }
   ],
   "execution_count": 60
  },
  {
   "cell_type": "markdown",
   "metadata": {
    "pycharm": {
     "name": "#%% md\n"
    }
   },
   "source": [
    "# Contrast Robustness"
   ]
  },
  {
   "cell_type": "code",
   "metadata": {
    "pycharm": {
     "name": "#%%\n"
    },
    "ExecuteTime": {
     "end_time": "2024-07-11T13:05:05.856189Z",
     "start_time": "2024-07-11T13:04:58.056845Z"
    }
   },
   "source": [
    "contrast_values = list(np.linspace(0, 2, 9, endpoint=True))\n",
    "distance = get_augmented_hashes_and_l1_dist(\n",
    "    [os.path.join(HASH_DIR, 'contrast', f'{DATASET}_contrast_{int(contrast)}.csv' if 'nn' not in TARGET else f'{DATASET}_contrast_{contrast}.csv') for contrast in contrast_values],\n",
    "    contrast_values,\n",
    "    bin_hashes_orig,\n",
    "    num_processes=9,\n",
    "    pairwise=True\n",
    ")"
   ],
   "outputs": [
    {
     "data": {
      "text/plain": [
       "0it [00:00, ?it/s]"
      ],
      "application/vnd.jupyter.widget-view+json": {
       "version_major": 2,
       "version_minor": 0,
       "model_id": "835d9f4cc8d245c3beb5d3eaf566d5e8"
      }
     },
     "metadata": {},
     "output_type": "display_data"
    }
   ],
   "execution_count": 61
  },
  {
   "metadata": {
    "ExecuteTime": {
     "end_time": "2024-07-11T13:09:46.815488Z",
     "start_time": "2024-07-11T13:05:05.857159Z"
    }
   },
   "cell_type": "code",
   "source": [
    "Trans = 'Contrast'\n",
    "\n",
    "keys = []\n",
    "auc_values = []\n",
    "plt.figure(figsize=(10, 8))\n",
    "line_styles = ['--', '-.', ':', '-', (0, (3, 5, 1, 5)), (0, (3, 1, 1, 1)), (0, (3, 5, 1, 5, 1, 5)), (0, (3, 10, 1, 10))]\n",
    "colors = plt.cm.Set1(np.linspace(0, 1, len(contrast_values)))\n",
    "\n",
    "for idx, (key, value) in enumerate(tqdm(distance.items())):\n",
    "    fpr, tpr, thresholds, roc_auc = calculate_roc_auc(value)\n",
    "    keys.append(key)\n",
    "    auc_values.append(roc_auc)\n",
    "    style = line_styles[idx % len(line_styles)] \n",
    "    color = colors[idx % len(colors)]\n",
    "    plt.plot(fpr, tpr, color=color, lw=3, linestyle=style, label=f'{Trans} {key}° (AUC = {roc_auc:.2f})')\n",
    "\n",
    "# Plot formatting\n",
    "plt.plot([0, 1], [0, 1], color='gray', lw=1, linestyle='--')  # Line of no skill\n",
    "plt.xlim([0.0, 1.0])\n",
    "plt.ylim([0.0, 1.05])\n",
    "plt.xlabel('False Positive Rate', fontsize = 18)\n",
    "plt.ylabel('True Positive Rate', fontsize = 18)\n",
    "plt.tick_params(axis='x', labelsize=16)\n",
    "plt.tick_params(axis='y', labelsize=16)\n",
    "plt.legend(loc=\"lower right\")\n",
    "plt.tight_layout() \n",
    "plt.savefig(f'{PLOT_DIR}/{DATASET}_{Trans}.pdf', bbox_inches='tight')  # Save the figure as a PNG file with tight bounding box\n",
    "plt.close()  # Close the plot to free up memory"
   ],
   "outputs": [
    {
     "data": {
      "text/plain": [
       "  0%|          | 0/9 [00:00<?, ?it/s]"
      ],
      "application/vnd.jupyter.widget-view+json": {
       "version_major": 2,
       "version_minor": 0,
       "model_id": "811db466251d4981b5baee4b9871dc67"
      }
     },
     "metadata": {},
     "output_type": "display_data"
    }
   ],
   "execution_count": 62
  },
  {
   "cell_type": "code",
   "metadata": {
    "ExecuteTime": {
     "end_time": "2024-07-11T13:09:46.819177Z",
     "start_time": "2024-07-11T13:09:46.816170Z"
    }
   },
   "source": [
    "# Print angles row\n",
    "print(\"Contrast:   \", end='')\n",
    "for key in keys:\n",
    "    print(f\"{key:<10}\", end='')\n",
    "print()  # New line for AUC values\n",
    "\n",
    "# Print ROC AUC values row\n",
    "print(\"ROC AUC: \", end='')\n",
    "for value in auc_values:\n",
    "    print(f\"{value:<10.4f}\", end='')\n",
    "print()  # N\n",
    "\n",
    "# Open a file and append the data\n",
    "with open(f'{PLOT_DIR}/{DATASET}.txt', 'a') as file:\n",
    "    # Print angles row to the file\n",
    "    file.write(\"Contrast:  \")\n",
    "    for key in keys:\n",
    "        file.write(f\"{key:<10}\")\n",
    "    file.write(\"\\n\")  # New line for AUC values\n",
    "\n",
    "    # Print ROC AUC values row to the file\n",
    "    file.write(\"ROC AUC: \")\n",
    "    for value in auc_values:\n",
    "        file.write(f\"{value:<10.4f}\")\n",
    "    file.write(\"\\n\")  # New line at the end\n",
    "    file.write(\"\\n\")"
   ],
   "outputs": [
    {
     "name": "stdout",
     "output_type": "stream",
     "text": [
      "Contrast:   0.0       0.25      0.5       0.75      1.0       1.25      1.5       1.75      2.0       \n",
      "ROC AUC: 0.5039    0.9096    0.9585    0.9824    1.0000    0.9952    0.9897    0.9852    0.9809    \n"
     ]
    }
   ],
   "execution_count": 63
  },
  {
   "cell_type": "markdown",
   "metadata": {
    "pycharm": {
     "name": "#%% md\n"
    }
   },
   "source": [
    "# Saturation Robustness"
   ]
  },
  {
   "cell_type": "code",
   "metadata": {
    "pycharm": {
     "name": "#%%\n"
    },
    "ExecuteTime": {
     "end_time": "2024-07-11T13:09:54.279960Z",
     "start_time": "2024-07-11T13:09:46.819652Z"
    }
   },
   "source": [
    "saturation_values = list(np.linspace(0, 2, 9, endpoint=True))\n",
    "distance = get_augmented_hashes_and_l1_dist(\n",
    "    [os.path.join(HASH_DIR, 'saturation', f'{DATASET}_saturation_{int(saturation)}.csv' if 'nn' not in TARGET else f'{DATASET}_saturation_{saturation}.csv') for saturation in saturation_values],\n",
    "    saturation_values,\n",
    "    bin_hashes_orig,\n",
    "    num_processes=9,\n",
    "    pairwise=True\n",
    ")"
   ],
   "outputs": [
    {
     "data": {
      "text/plain": [
       "0it [00:00, ?it/s]"
      ],
      "application/vnd.jupyter.widget-view+json": {
       "version_major": 2,
       "version_minor": 0,
       "model_id": "c69d5e41b54f40889c68e3be7bfe77d3"
      }
     },
     "metadata": {},
     "output_type": "display_data"
    }
   ],
   "execution_count": 64
  },
  {
   "metadata": {
    "ExecuteTime": {
     "end_time": "2024-07-11T13:14:28.398081Z",
     "start_time": "2024-07-11T13:09:54.280733Z"
    }
   },
   "cell_type": "code",
   "source": [
    "Trans = 'Saturation'\n",
    "\n",
    "keys = []\n",
    "auc_values = []\n",
    "plt.figure(figsize=(10, 8))\n",
    "line_styles = ['--', '-.', ':', '-', (0, (3, 5, 1, 5)), (0, (3, 1, 1, 1)), (0, (3, 5, 1, 5, 1, 5)), (0, (3, 10, 1, 10))]\n",
    "colors = plt.cm.Set1(np.linspace(0, 1, len(saturation_values)))\n",
    "\n",
    "for idx, (key, value) in enumerate(tqdm(distance.items())):\n",
    "    fpr, tpr, thresholds, roc_auc = calculate_roc_auc(value)\n",
    "    keys.append(key)\n",
    "    auc_values.append(roc_auc)\n",
    "    style = line_styles[idx % len(line_styles)] \n",
    "    color = colors[idx % len(colors)]\n",
    "    plt.plot(fpr, tpr, color=color, lw=3, linestyle=style, label=f'{Trans} {key}° (AUC = {roc_auc:.2f})')\n",
    "\n",
    "# Plot formatting\n",
    "plt.plot([0, 1], [0, 1], color='gray', lw=1, linestyle='--')  # Line of no skill\n",
    "plt.xlim([0.0, 1.0])\n",
    "plt.ylim([0.0, 1.05])\n",
    "plt.xlabel('False Positive Rate', fontsize = 18)\n",
    "plt.ylabel('True Positive Rate', fontsize = 18)\n",
    "plt.tick_params(axis='x', labelsize=16)\n",
    "plt.tick_params(axis='y', labelsize=16)\n",
    "plt.legend(loc=\"lower right\")\n",
    "plt.tight_layout() \n",
    "plt.savefig(f'{PLOT_DIR}/{DATASET}_{Trans}.pdf', bbox_inches='tight')  # Save the figure as a PNG file with tight bounding box\n",
    "plt.close()  # Close the plot to free up memory"
   ],
   "outputs": [
    {
     "data": {
      "text/plain": [
       "  0%|          | 0/9 [00:00<?, ?it/s]"
      ],
      "application/vnd.jupyter.widget-view+json": {
       "version_major": 2,
       "version_minor": 0,
       "model_id": "b63563d820ba4f3ab69b1e816820f054"
      }
     },
     "metadata": {},
     "output_type": "display_data"
    }
   ],
   "execution_count": 65
  },
  {
   "cell_type": "code",
   "metadata": {
    "ExecuteTime": {
     "end_time": "2024-07-11T13:14:28.401713Z",
     "start_time": "2024-07-11T13:14:28.398719Z"
    }
   },
   "source": [
    "# Print angles row\n",
    "print(\"Saturation:   \", end='')\n",
    "for key in keys:\n",
    "    print(f\"{key:<10}\", end='')\n",
    "print()  # New line for AUC values\n",
    "\n",
    "# Print ROC AUC values row\n",
    "print(\"ROC AUC: \", end='')\n",
    "for value in auc_values:\n",
    "    print(f\"{value:<10.4f}\", end='')\n",
    "print()  # N\n",
    "\n",
    "\n",
    "# Open a file and append the data\n",
    "with open(f'{PLOT_DIR}/{DATASET}.txt', 'a') as file:\n",
    "    # Print angles row to the file\n",
    "    file.write(\"Saturation:  \")\n",
    "    for key in keys:\n",
    "        file.write(f\"{key:<10}\")\n",
    "    file.write(\"\\n\")  # New line for AUC values\n",
    "\n",
    "    # Print ROC AUC values row to the file\n",
    "    file.write(\"ROC AUC: \")\n",
    "    for value in auc_values:\n",
    "        file.write(f\"{value:<10.4f}\")\n",
    "    file.write(\"\\n\")  # New line at the end\n",
    "    file.write(\"\\n\")"
   ],
   "outputs": [
    {
     "name": "stdout",
     "output_type": "stream",
     "text": [
      "Saturation:   0.0       0.25      0.5       0.75      1.0       1.25      1.5       1.75      2.0       \n",
      "ROC AUC: 1.0000    1.0000    1.0000    1.0000    1.0000    1.0000    1.0000    1.0000    1.0000    \n"
     ]
    }
   ],
   "execution_count": 66
  },
  {
   "cell_type": "markdown",
   "metadata": {
    "pycharm": {
     "name": "#%% md\n"
    }
   },
   "source": [
    "# Compression Robustness"
   ]
  },
  {
   "metadata": {
    "ExecuteTime": {
     "end_time": "2024-07-11T13:14:37.462352Z",
     "start_time": "2024-07-11T13:14:28.402180Z"
    }
   },
   "cell_type": "code",
   "source": [
    "compression_values = [100] + list(\n",
    "    (100 - np.ceil(np.logspace(0, np.log(100) / np.log(1.5), 10, endpoint=True, base=1.5))).clip(0, 100)\n",
    ")\n",
    "\n",
    "distance = get_augmented_hashes_and_l1_dist(\n",
    "    [os.path.join(HASH_DIR, 'compression', f'{DATASET}_compression_{int(compression)}.csv' if 'nn' not in TARGET else f'{DATASET}_compression_{compression}.csv') for compression in compression_values],\n",
    "    compression_values,\n",
    "    bin_hashes_orig,\n",
    "    num_processes=11,\n",
    "    pairwise=True\n",
    ")\n"
   ],
   "outputs": [
    {
     "data": {
      "text/plain": [
       "0it [00:00, ?it/s]"
      ],
      "application/vnd.jupyter.widget-view+json": {
       "version_major": 2,
       "version_minor": 0,
       "model_id": "25afa34b88ed45d28667cd28196c01a7"
      }
     },
     "metadata": {},
     "output_type": "display_data"
    }
   ],
   "execution_count": 67
  },
  {
   "metadata": {
    "ExecuteTime": {
     "end_time": "2024-07-11T13:20:21.632618Z",
     "start_time": "2024-07-11T13:14:37.463139Z"
    }
   },
   "cell_type": "code",
   "source": [
    "Trans = 'Compression'\n",
    "\n",
    "keys = []\n",
    "auc_values = []\n",
    "plt.figure(figsize=(10, 8))\n",
    "line_styles = ['--', '-.', ':', '-', (0, (3, 5, 1, 5)), (0, (3, 1, 1, 1)), (0, (3, 5, 1, 5, 1, 5)), (0, (3, 10, 1, 10))]\n",
    "colors = plt.cm.Set1(np.linspace(0, 1, len(compression_values)))\n",
    "\n",
    "for idx, (key, value) in enumerate(tqdm(distance.items())):\n",
    "    fpr, tpr, thresholds, roc_auc = calculate_roc_auc(value)\n",
    "    keys.append(key)\n",
    "    auc_values.append(roc_auc)\n",
    "    style = line_styles[idx % len(line_styles)] \n",
    "    color = colors[idx % len(colors)]\n",
    "    plt.plot(fpr, tpr, color=color, lw=3, linestyle=style, label=f'{Trans} {key}° (AUC = {roc_auc:.2f})')\n",
    "\n",
    "# Plot formatting\n",
    "plt.plot([0, 1], [0, 1], color='gray', lw=1, linestyle='--')  # Line of no skill\n",
    "plt.xlim([0.0, 1.0])\n",
    "plt.ylim([0.0, 1.05])\n",
    "plt.xlabel('False Positive Rate', fontsize = 18)\n",
    "plt.ylabel('True Positive Rate', fontsize = 18)\n",
    "plt.tick_params(axis='x', labelsize=16)\n",
    "plt.tick_params(axis='y', labelsize=16)\n",
    "plt.legend(loc=\"lower right\")\n",
    "plt.tight_layout() \n",
    "plt.savefig(f'{PLOT_DIR}/{DATASET}_{Trans}.pdf', bbox_inches='tight')  # Save the figure as a PNG file with tight bounding box\n",
    "plt.close()  # Close the plot to free up memory\n"
   ],
   "outputs": [
    {
     "data": {
      "text/plain": [
       "  0%|          | 0/11 [00:00<?, ?it/s]"
      ],
      "application/vnd.jupyter.widget-view+json": {
       "version_major": 2,
       "version_minor": 0,
       "model_id": "21dedd9b9d1d4a898572f42565f58342"
      }
     },
     "metadata": {},
     "output_type": "display_data"
    }
   ],
   "execution_count": 68
  },
  {
   "cell_type": "code",
   "metadata": {
    "ExecuteTime": {
     "end_time": "2024-07-11T13:20:21.636098Z",
     "start_time": "2024-07-11T13:20:21.633286Z"
    }
   },
   "source": [
    "# Print angles row\n",
    "print(\"Compression: \", end='')\n",
    "for key in keys:\n",
    "    print(f\"{key:<10}\", end='')\n",
    "print()  # New line for AUC values\n",
    "\n",
    "# Print ROC AUC values row\n",
    "print(\"ROC AUC: \", end='')\n",
    "for value in auc_values:\n",
    "    print(f\"{value:<10.4f}\", end='')\n",
    "print()  # N\n",
    "\n",
    "\n",
    "# Open a file and append the data\n",
    "with open(f'{PLOT_DIR}/{DATASET}.txt', 'a') as file:\n",
    "    # Print angles row to the file\n",
    "    file.write(\"Compression:  \")\n",
    "    for key in keys:\n",
    "        file.write(f\"{key:<10}\")\n",
    "    file.write(\"\\n\")  # New line for AUC values\n",
    "\n",
    "    # Print ROC AUC values row to the file\n",
    "    file.write(\"ROC AUC: \")\n",
    "    for value in auc_values:\n",
    "        file.write(f\"{value:<10.4f}\")\n",
    "    file.write(\"\\n\")  # New line at the end\n",
    "    file.write(\"\\n\")"
   ],
   "outputs": [
    {
     "name": "stdout",
     "output_type": "stream",
     "text": [
      "Compression: 100       99.0      98.0      97.0      95.0      92.0      87.0      78.0      64.0      40.0      0.0       \n",
      "ROC AUC: 0.8552    0.8853    0.9115    0.9634    0.9854    0.9702    0.9925    0.9963    0.9980    0.9978    1.0000    \n"
     ]
    }
   ],
   "execution_count": 69
  },
  {
   "cell_type": "markdown",
   "metadata": {
    "pycharm": {
     "name": "#%% md\n"
    }
   },
   "source": [
    "# Crop Robustness"
   ]
  },
  {
   "cell_type": "code",
   "metadata": {
    "pycharm": {
     "name": "#%%\n"
    },
    "ExecuteTime": {
     "end_time": "2024-07-11T13:20:27.617427Z",
     "start_time": "2024-07-11T13:20:21.636569Z"
    }
   },
   "source": [
    "crop_values = list(\n",
    "    filter(\n",
    "        lambda x: x != 63,  # Change this value if you specifically want to exclude a different size\n",
    "        [64] + list(64 - np.append(np.logspace(0, 5, 6, base=2, endpoint=True, dtype=int), [32]))\n",
    "    )\n",
    ")\n",
    "distance = get_augmented_hashes_and_l1_dist(\n",
    "    [os.path.join(HASH_DIR, 'crop', f'{DATASET}_crop_{int(crop)}.csv' if 'nn' not in TARGET else f'{DATASET}_crop_{crop}.csv') for crop in crop_values],\n",
    "    crop_values,\n",
    "    bin_hashes_orig,\n",
    "    num_processes=10,\n",
    "    pairwise=True\n",
    ")\n"
   ],
   "outputs": [
    {
     "data": {
      "text/plain": [
       "0it [00:00, ?it/s]"
      ],
      "application/vnd.jupyter.widget-view+json": {
       "version_major": 2,
       "version_minor": 0,
       "model_id": "4424dcb484854c28be898cb8858a3a2c"
      }
     },
     "metadata": {},
     "output_type": "display_data"
    }
   ],
   "execution_count": 70
  },
  {
   "metadata": {
    "ExecuteTime": {
     "end_time": "2024-07-11T13:23:31.346066Z",
     "start_time": "2024-07-11T13:20:27.618158Z"
    }
   },
   "cell_type": "code",
   "source": [
    "Trans = 'Crop'\n",
    "\n",
    "keys = []\n",
    "auc_values = []\n",
    "plt.figure(figsize=(10, 8))\n",
    "line_styles = ['--', '-.', ':', '-', (0, (3, 5, 1, 5)), (0, (3, 1, 1, 1)), (0, (3, 5, 1, 5, 1, 5)), (0, (3, 10, 1, 10))]\n",
    "colors = plt.cm.Set1(np.linspace(0, 1, len(crop_values)))\n",
    "\n",
    "for idx, (key, value) in enumerate(tqdm(distance.items())):\n",
    "    fpr, tpr, thresholds, roc_auc = calculate_roc_auc(value)\n",
    "    keys.append(key)\n",
    "    auc_values.append(roc_auc)\n",
    "    style = line_styles[idx % len(line_styles)] \n",
    "    color = colors[idx % len(colors)]\n",
    "    plt.plot(fpr, tpr, color=color, lw=3, linestyle=style, label=f'{Trans} {key}° (AUC = {roc_auc:.2f})')\n",
    "\n",
    "# Plot formatting\n",
    "plt.plot([0, 1], [0, 1], color='gray', lw=1, linestyle='--')  # Line of no skill\n",
    "plt.xlim([0.0, 1.0])\n",
    "plt.ylim([0.0, 1.05])\n",
    "plt.xlabel('False Positive Rate', fontsize = 18)\n",
    "plt.ylabel('True Positive Rate', fontsize = 18)\n",
    "plt.tick_params(axis='x', labelsize=16)\n",
    "plt.tick_params(axis='y', labelsize=16)\n",
    "plt.legend(loc=\"lower right\")\n",
    "plt.tight_layout() \n",
    "plt.savefig(f'{PLOT_DIR}/{DATASET}_{Trans}.pdf', bbox_inches='tight')  # Save the figure as a PNG file with tight bounding box\n",
    "plt.close()  # Close the plot to free up memory"
   ],
   "outputs": [
    {
     "data": {
      "text/plain": [
       "  0%|          | 0/6 [00:00<?, ?it/s]"
      ],
      "application/vnd.jupyter.widget-view+json": {
       "version_major": 2,
       "version_minor": 0,
       "model_id": "bb8146a26ff7487ca2e7cc4432e448a0"
      }
     },
     "metadata": {},
     "output_type": "display_data"
    }
   ],
   "execution_count": 71
  },
  {
   "cell_type": "code",
   "metadata": {
    "ExecuteTime": {
     "end_time": "2024-07-11T13:23:31.349634Z",
     "start_time": "2024-07-11T13:23:31.346803Z"
    }
   },
   "source": [
    "\n",
    "print(\"Crop: \", end='')\n",
    "for key in keys:\n",
    "    print(f\"{key:<10}\", end='')\n",
    "print()  # New line for AUC values\n",
    "\n",
    "# Print ROC AUC values row\n",
    "print(\"ROC AUC: \", end='')\n",
    "for value in auc_values:\n",
    "    print(f\"{value:<10.4f}\", end='')\n",
    "print()  # N\n",
    "\n",
    "\n",
    "# Open a file and append the data\n",
    "with open(f'{PLOT_DIR}/{DATASET}.txt', 'a') as file:\n",
    "    # Print angles row to the file\n",
    "    file.write(\"Crop:  \")\n",
    "    for key in keys:\n",
    "        file.write(f\"{key:<10}\")\n",
    "    file.write(\"\\n\")  # New line for AUC values\n",
    "\n",
    "    # Print ROC AUC values row to the file\n",
    "    file.write(\"ROC AUC: \")\n",
    "    for value in auc_values:\n",
    "        file.write(f\"{value:<10.4f}\")\n",
    "    file.write(\"\\n\")  # New line at the end\n",
    "    file.write(\"\\n\")"
   ],
   "outputs": [
    {
     "name": "stdout",
     "output_type": "stream",
     "text": [
      "Crop: 64        62        60        56        48        32        \n",
      "ROC AUC: 1.0000    0.9989    0.9967    0.9920    0.9517    0.7428    \n"
     ]
    }
   ],
   "execution_count": 72
  },
  {
   "cell_type": "markdown",
   "metadata": {
    "pycharm": {
     "name": "#%% md\n"
    }
   },
   "source": [
    "# Horizontal Flipping Robustness"
   ]
  },
  {
   "cell_type": "code",
   "metadata": {
    "pycharm": {
     "name": "#%%\n"
    },
    "ExecuteTime": {
     "end_time": "2024-07-11T13:23:32.409555Z",
     "start_time": "2024-07-11T13:23:31.350097Z"
    }
   },
   "source": [
    "distance = get_augmented_hashes_and_l1_dist(\n",
    "    [os.path.join(HASH_DIR, 'hflip', f'{DATASET}_hflip.csv')],\n",
    "    [0],\n",
    "    bin_hashes_orig,\n",
    "    num_processes=1,\n",
    "    pairwise=True\n",
    ")"
   ],
   "outputs": [
    {
     "data": {
      "text/plain": [
       "0it [00:00, ?it/s]"
      ],
      "application/vnd.jupyter.widget-view+json": {
       "version_major": 2,
       "version_minor": 0,
       "model_id": "8f5110ca3ad54248959a90dec84d2244"
      }
     },
     "metadata": {},
     "output_type": "display_data"
    }
   ],
   "execution_count": 73
  },
  {
   "cell_type": "code",
   "metadata": {
    "pycharm": {
     "name": "#%%\n"
    },
    "ExecuteTime": {
     "end_time": "2024-07-11T13:24:03.125596Z",
     "start_time": "2024-07-11T13:23:32.411546Z"
    }
   },
   "source": [
    "Trans = 'H-Flip'\n",
    "\n",
    "keys = []\n",
    "auc_values = []\n",
    "plt.figure(figsize=(10, 8))\n",
    "line_styles = ['--', '-.', ':', '-', (0, (3, 5, 1, 5)), (0, (3, 1, 1, 1)), (0, (3, 5, 1, 5, 1, 5)), (0, (3, 10, 1, 10))]\n",
    "colors = plt.cm.Set1(np.linspace(0, 1, len(angles)))\n",
    "\n",
    "for idx, (key, value) in enumerate(tqdm(distance.items())):\n",
    "    fpr, tpr, thresholds, roc_auc = calculate_roc_auc(value)\n",
    "    keys.append(key)\n",
    "    auc_values.append(roc_auc)\n",
    "    style = line_styles[idx % len(line_styles)] \n",
    "    color = colors[idx % len(colors)]\n",
    "    plt.plot(fpr, tpr, color=color, lw=3, linestyle=style, label=f'{Trans} {key}° (AUC = {roc_auc:.2f})')\n",
    "\n",
    "# Plot formatting\n",
    "plt.plot([0, 1], [0, 1], color='gray', lw=1, linestyle='--')  # Line of no skill\n",
    "plt.xlim([0.0, 1.0])\n",
    "plt.ylim([0.0, 1.05])\n",
    "plt.xlabel('False Positive Rate', fontsize = 18)\n",
    "plt.ylabel('True Positive Rate', fontsize = 18)\n",
    "plt.tick_params(axis='x', labelsize=16)\n",
    "plt.tick_params(axis='y', labelsize=16)\n",
    "plt.legend(loc=\"lower right\")\n",
    "plt.tight_layout() \n",
    "plt.savefig(f'{PLOT_DIR}/{DATASET}_{Trans}.pdf', bbox_inches='tight')  # Save the figure as a PNG file with tight bounding box\n",
    "plt.close()  # Close the plot to free up memory"
   ],
   "outputs": [
    {
     "data": {
      "text/plain": [
       "  0%|          | 0/1 [00:00<?, ?it/s]"
      ],
      "application/vnd.jupyter.widget-view+json": {
       "version_major": 2,
       "version_minor": 0,
       "model_id": "570e07a01d794ec7b8dd86cdcbb417d2"
      }
     },
     "metadata": {},
     "output_type": "display_data"
    }
   ],
   "execution_count": 74
  },
  {
   "metadata": {
    "ExecuteTime": {
     "end_time": "2024-07-11T13:24:03.129676Z",
     "start_time": "2024-07-11T13:24:03.126416Z"
    }
   },
   "cell_type": "code",
   "source": [
    "print(f\"{Trans}: \", end='')\n",
    "for key in keys:\n",
    "    print(f\"{key:<10}\", end='')\n",
    "print()  # New line for AUC values\n",
    "\n",
    "# Print ROC AUC values row\n",
    "print(\"ROC AUC: \", end='')\n",
    "for value in auc_values:\n",
    "    print(f\"{value:<10.4f}\", end='')\n",
    "print()  # N\n",
    "\n",
    "\n",
    "# Open a file and append the data\n",
    "with open(f'{PLOT_DIR}/{DATASET}.txt', 'a') as file:\n",
    "    # Print angles row to the file\n",
    "    file.write(f\"{Trans}:  \")\n",
    "    for key in keys:\n",
    "        file.write(f\"{key:<10}\")\n",
    "    file.write(\"\\n\")  # New line for AUC values\n",
    "\n",
    "    # Print ROC AUC values row to the file\n",
    "    file.write(\"ROC AUC: \")\n",
    "    for value in auc_values:\n",
    "        file.write(f\"{value:<10.4f}\")\n",
    "    file.write(\"\\n\")  # New line at the end\n",
    "    file.write(\"\\n\")"
   ],
   "outputs": [
    {
     "name": "stdout",
     "output_type": "stream",
     "text": [
      "H-Flip: 0         \n",
      "ROC AUC: 0.8410    \n"
     ]
    }
   ],
   "execution_count": 75
  },
  {
   "cell_type": "markdown",
   "metadata": {
    "pycharm": {
     "name": "#%% md\n"
    }
   },
   "source": [
    "# Vertical Flipping Robustness"
   ]
  },
  {
   "cell_type": "code",
   "metadata": {
    "pycharm": {
     "name": "#%%\n"
    },
    "ExecuteTime": {
     "end_time": "2024-07-11T13:24:04.195641Z",
     "start_time": "2024-07-11T13:24:03.130310Z"
    }
   },
   "source": [
    "distance = get_augmented_hashes_and_l1_dist(\n",
    "    [os.path.join(HASH_DIR, 'vflip', f'{DATASET}_vflip.csv')],\n",
    "    [0],\n",
    "    bin_hashes_orig,\n",
    "    num_processes=1,\n",
    "    pairwise=True\n",
    ")"
   ],
   "outputs": [
    {
     "data": {
      "text/plain": [
       "0it [00:00, ?it/s]"
      ],
      "application/vnd.jupyter.widget-view+json": {
       "version_major": 2,
       "version_minor": 0,
       "model_id": "c02beea440ca4373ae6b1da2e3cd0e09"
      }
     },
     "metadata": {},
     "output_type": "display_data"
    }
   ],
   "execution_count": 76
  },
  {
   "cell_type": "code",
   "metadata": {
    "pycharm": {
     "name": "#%%\n"
    },
    "ExecuteTime": {
     "end_time": "2024-07-11T13:24:34.900414Z",
     "start_time": "2024-07-11T13:24:04.196597Z"
    }
   },
   "source": [
    "Trans = 'V-Flip'\n",
    "\n",
    "keys = []\n",
    "auc_values = []\n",
    "plt.figure(figsize=(10, 8))\n",
    "line_styles = ['--', '-.', ':', '-', (0, (3, 5, 1, 5)), (0, (3, 1, 1, 1)), (0, (3, 5, 1, 5, 1, 5)), (0, (3, 10, 1, 10))]\n",
    "colors = plt.cm.Set1(np.linspace(0, 1, len(angles)))\n",
    "\n",
    "for idx, (key, value) in enumerate(tqdm(distance.items())):\n",
    "    fpr, tpr, thresholds, roc_auc = calculate_roc_auc(value)\n",
    "    keys.append(key)\n",
    "    auc_values.append(roc_auc)\n",
    "    style = line_styles[idx % len(line_styles)] \n",
    "    color = colors[idx % len(colors)]\n",
    "    plt.plot(fpr, tpr, color=color, lw=3, linestyle=style, label=f'{Trans} {key}° (AUC = {roc_auc:.2f})')\n",
    "\n",
    "# Plot formatting\n",
    "plt.plot([0, 1], [0, 1], color='gray', lw=1, linestyle='--')  # Line of no skill\n",
    "plt.xlim([0.0, 1.0])\n",
    "plt.ylim([0.0, 1.05])\n",
    "plt.xlabel('False Positive Rate', fontsize = 18)\n",
    "plt.ylabel('True Positive Rate', fontsize = 18)\n",
    "plt.tick_params(axis='x', labelsize=16)\n",
    "plt.tick_params(axis='y', labelsize=16)\n",
    "plt.legend(loc=\"lower right\")\n",
    "plt.tight_layout() \n",
    "plt.savefig(f'{PLOT_DIR}/{DATASET}_{Trans}.pdf', bbox_inches='tight')  # Save the figure as a PNG file with tight bounding box\n",
    "plt.close()  # Close the plot to free up memory"
   ],
   "outputs": [
    {
     "data": {
      "text/plain": [
       "  0%|          | 0/1 [00:00<?, ?it/s]"
      ],
      "application/vnd.jupyter.widget-view+json": {
       "version_major": 2,
       "version_minor": 0,
       "model_id": "443c6f5138194315943834378288d336"
      }
     },
     "metadata": {},
     "output_type": "display_data"
    }
   ],
   "execution_count": 77
  },
  {
   "metadata": {
    "ExecuteTime": {
     "end_time": "2024-07-11T13:24:34.903928Z",
     "start_time": "2024-07-11T13:24:34.901033Z"
    }
   },
   "cell_type": "code",
   "source": [
    "print(f\"{Trans}: \", end='')\n",
    "for key in keys:\n",
    "    print(f\"{key:<10}\", end='')\n",
    "print()  # New line for AUC values\n",
    "\n",
    "# Print ROC AUC values row\n",
    "print(\"ROC AUC: \", end='')\n",
    "for value in auc_values:\n",
    "    print(f\"{value:<10.4f}\", end='')\n",
    "print()  # N\n",
    "\n",
    "\n",
    "# Open a file and append the data\n",
    "with open(f'{PLOT_DIR}/{DATASET}.txt', 'a') as file:\n",
    "    # Print angles row to the file\n",
    "    file.write(f\"{Trans}:  \")\n",
    "    for key in keys:\n",
    "        file.write(f\"{key:<10}\")\n",
    "    file.write(\"\\n\")  # New line for AUC values\n",
    "\n",
    "    # Print ROC AUC values row to the file\n",
    "    file.write(\"ROC AUC: \")\n",
    "    for value in auc_values:\n",
    "        file.write(f\"{value:<10.4f}\")\n",
    "    file.write(\"\\n\")  # New line at the end\n",
    "    file.write(\"\\n\")"
   ],
   "outputs": [
    {
     "name": "stdout",
     "output_type": "stream",
     "text": [
      "V-Flip: 0         \n",
      "ROC AUC: 0.7011    \n"
     ]
    }
   ],
   "execution_count": 78
  },
  {
   "cell_type": "markdown",
   "metadata": {
    "pycharm": {
     "name": "#%% md\n"
    }
   },
   "source": [
    "# Downsizing Robustness"
   ]
  },
  {
   "cell_type": "code",
   "metadata": {
    "pycharm": {
     "name": "#%%\n"
    },
    "ExecuteTime": {
     "end_time": "2024-07-11T13:24:34.921993Z",
     "start_time": "2024-07-11T13:24:34.904385Z"
    }
   },
   "source": [
    "# downsizing_values = list(\n",
    "#     filter(\n",
    "#         lambda x: x != 63,  # Ensure consistency in what's being excluded\n",
    "#         [64] + list(64 - np.append(np.logspace(0, 5, 6, base=2, endpoint=True, dtype=int), [32]))\n",
    "#     )\n",
    "# )\n",
    "# downsizing_hamming = get_augmented_hashes_and_l1_dist(\n",
    "#     [os.path.join(HASH_DIR, 'downsizing', f'{DATASET}_downsizing_{size}.csv') for size in downsizing_values],\n",
    "#     downsizing_values,\n",
    "#     bin_hashes_orig,\n",
    "#     num_processes=9,\n",
    "#     pairwise=True\n",
    "# )"
   ],
   "outputs": [],
   "execution_count": 79
  },
  {
   "metadata": {
    "ExecuteTime": {
     "end_time": "2024-07-11T13:24:34.936511Z",
     "start_time": "2024-07-11T13:24:34.922443Z"
    }
   },
   "cell_type": "code",
   "source": [
    "# keys = []\n",
    "# auc_values = []\n",
    "# for key, value in tqdm(downsizing_hamming.items()):\n",
    "#     _, _, _, roc_auc = calculate_roc_auc(value)\n",
    "#     keys.append(key)\n",
    "#     auc_values.append(roc_auc)\n",
    "\n"
   ],
   "outputs": [],
   "execution_count": 80
  },
  {
   "cell_type": "code",
   "metadata": {
    "ExecuteTime": {
     "end_time": "2024-07-11T13:24:34.946257Z",
     "start_time": "2024-07-11T13:24:34.937043Z"
    }
   },
   "source": [
    "# print(\"Downsize: \", end='')\n",
    "# for key in keys:\n",
    "#     print(f\"{key:<10}\", end='')\n",
    "# print()  # New line for AUC values\n",
    "# \n",
    "# # Print ROC AUC values row\n",
    "# print(\"ROC AUC: \", end='')\n",
    "# for value in auc_values:\n",
    "#     print(f\"{value:<10.4f}\", end='')\n",
    "# print()  # N\n",
    "# \n",
    "# # Open a file and append the data\n",
    "# with open(f'{PLOT_DIR}/{DATASET}.txt', 'a') as file:\n",
    "#     # Print angles row to the file\n",
    "#     file.write(\"Downsize:  \")\n",
    "#     for key in keys:\n",
    "#         file.write(f\"{key:<10}\")\n",
    "#     file.write(\"\\n\")  # New line for AUC values\n",
    "# \n",
    "#     # Print ROC AUC values row to the file\n",
    "#     file.write(\"ROC AUC: \")\n",
    "#     for value in auc_values:\n",
    "#         file.write(f\"{value:<10.4f}\")\n",
    "#     file.write(\"\\n\")  # New line at the end\n",
    "#     file.write(\"\\n\")"
   ],
   "outputs": [],
   "execution_count": 81
  },
  {
   "metadata": {
    "ExecuteTime": {
     "end_time": "2024-07-11T13:24:34.948284Z",
     "start_time": "2024-07-11T13:24:34.946959Z"
    }
   },
   "cell_type": "code",
   "source": "",
   "outputs": [],
   "execution_count": 81
  },
  {
   "metadata": {
    "ExecuteTime": {
     "end_time": "2024-07-11T13:24:34.950087Z",
     "start_time": "2024-07-11T13:24:34.948909Z"
    }
   },
   "cell_type": "code",
   "source": "",
   "outputs": [],
   "execution_count": 81
  }
 ],
 "metadata": {
  "interpreter": {
   "hash": "d4d1e4263499bec80672ea0156c357c1ee493ec2b1c70f0acce89fc37c4a6abe"
  },
  "kernelspec": {
   "display_name": "Python 3 (ipykernel)",
   "language": "python",
   "name": "python3"
  },
  "language_info": {
   "name": "python",
   "version": "3.8.10"
  }
 },
 "nbformat": 4,
 "nbformat_minor": 2
}
